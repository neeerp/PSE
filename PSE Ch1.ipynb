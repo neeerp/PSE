{
 "cells": [
  {
   "cell_type": "code",
   "execution_count": 39,
   "metadata": {},
   "outputs": [],
   "source": [
    "import math\n",
    "def sample_mean(sample):\n",
    "    return sum(sample)/len(sample)\n",
    "\n",
    "def sample_variance(sample):\n",
    "    return sum([(x - sample_mean(sample))**2 for x in sample]) / (len(sample) - 1)\n",
    "\n",
    "def sample_std_dev(sample):\n",
    "    return sample_variance(sample)**(1/2)\n",
    "\n",
    "def sample_median(sample):\n",
    "    half = len(sample) // 2\n",
    "    if (len(sample) % 2) == 0: # Even    \n",
    "        return (sample[half] + sample[half + 1]) / 2\n",
    "    else:\n",
    "        return sample[half]\n",
    "        \n",
    "def trimmed_mean(sample, percent):\n",
    "    trim = math.ceil(len(sample) * percent)\n",
    "    return sample_mean(sample[trim:len(sample)-trim])\n",
    "        \n",
    "def printout(sample, name):\n",
    "    print(f'{name} Mean: {sample_mean(sample)}')\n",
    "    print(f'{name} Median: {sample_median(sample)}')\n",
    "    print(f'{name} 10% Trimmed Mean: {trimmed_mean(sample, .1)}')\n",
    "    print(f'{name} Variance: {sample_variance(sample)}')\n",
    "    print(f'{name} Standard Deviation: {sample_std_dev(sample)}')"
   ]
  },
  {
   "cell_type": "code",
   "execution_count": 26,
   "metadata": {},
   "outputs": [
    {
     "name": "stdout",
     "output_type": "stream",
     "text": [
      "Mean: 20.767500000000002\n",
      "Median: 20.61\n",
      "10% Trimmed Mean: 20.755555555555556\n",
      "Sample Variance: 2.532914473684211\n",
      "Sample Standard Deviation: 1.5915132653183293\n"
     ]
    }
   ],
   "source": [
    "# 1.2; 1.8\n",
    "absorbency = [18.71, 21.41, 20.72, 21.81, 19.29, 22.43, 20.17,\n",
    "              23.71, 19.44, 20.50, 18.92, 20.33, 23.00, 22.85,\n",
    "              19.25, 21.77, 22.11, 19.77, 18.04, 21.12]\n",
    "\n",
    "absorbency.sort()\n",
    "\n",
    "mean = sum(absorbency) / len(absorbency)\n",
    "median = (absorbency[9] + absorbency[10])/2\n",
    "\n",
    "print(f'Mean: {mean}\\nMedian: {median}')\n",
    "\n",
    "tr_mean = sum(absorbency[1:(len(absorbency) - 1)]) / (len(absorbency) - 2)\n",
    "print(f'10% Trimmed Mean: {tr_mean}')\n",
    "\n",
    "variance = sample_variance(absorbency)\n",
    "std_deviation = sample_var ** (1/2)\n",
    "\n",
    "print(f'Sample Variance: {variance}\\nSample Standard Deviation: {std_deviation}')"
   ]
  },
  {
   "cell_type": "code",
   "execution_count": 30,
   "metadata": {},
   "outputs": [
    {
     "name": "stdout",
     "output_type": "stream",
     "text": [
      "No Aging Mean: 222.1\n",
      "No Aging Median: 221.5\n",
      "No Aging Sample Variance: 23.65555555555555\n",
      " No Aging Standard Deviation 4.863697724525605\n",
      "\n",
      "Aging Mean: 209.9\n",
      "Aging Median: 210.0\n",
      "Aging Sample Variance: 42.099999999999994\n",
      "Aging Standard Deviation 6.488451279003334\n",
      "\n"
     ]
    }
   ],
   "source": [
    "# 1.3\n",
    "no_aging = [\n",
    "    227, 222, 218, 217, 225,\n",
    "    218, 216, 229, 228, 221\n",
    "]\n",
    "\n",
    "aging = [\n",
    "    219, 214, 215, 211, 209,\n",
    "    218, 203, 204, 201, 205\n",
    "]\n",
    "\n",
    "no_aging.sort()\n",
    "aging.sort()\n",
    "\n",
    "no_age_mean = sum(no_aging)/len(no_aging)\n",
    "age_mean = sum(aging)/len(aging)\n",
    "\n",
    "no_age_med = (no_aging[4] + no_aging[5])/2\n",
    "age_med = (aging[4] + aging[5]) / 2\n",
    "\n",
    "no_age_var = sample_variance(no_aging)\n",
    "age_var = sample_variance(aging)\n",
    "\n",
    "no_age_std_dev = sample_std_dev(no_aging)\n",
    "age_std_dev = sample_std_dev(aging)\n",
    "\n",
    "\n",
    "\n",
    "print(f'No Aging Mean: {no_age_mean}\\nNo Aging Median: {no_age_med}')\n",
    "print(f'No Aging Sample Variance: {no_age_var}\\n No Aging Standard Deviation {no_age_std_dev}\\n')\n",
    "print(f'Aging Mean: {age_mean}\\nAging Median: {age_med}')\n",
    "print(f'Aging Sample Variance: {age_var}\\nAging Standard Deviation {age_std_dev}\\n')"
   ]
  },
  {
   "cell_type": "code",
   "execution_count": 38,
   "metadata": {},
   "outputs": [
    {
     "name": "stdout",
     "output_type": "stream",
     "text": [
      "Company A Mean: 7.95\n",
      "Company A Median: 8.6\n",
      "Company A Variance: 1.2072222222222224\n",
      "\n",
      "Company B Mean: 10.26\n",
      "Company B Median: 10.2\n",
      "Company B Variance: 0.32488888888888884\n"
     ]
    }
   ],
   "source": [
    "# 1.4\n",
    "\n",
    "A = [9.3, 8.8, 6.8, 8.7, 8.5, \n",
    "     6.7, 8.0, 6.5, 9.2, 7.0\n",
    "]\n",
    "\n",
    "B = [11.0, 9.8, 9.9, 10.2, 10.1,\n",
    "     9.7, 11.0, 11.1, 10.2, 9.6\n",
    "]\n",
    "\n",
    "A.sort()\n",
    "B.sort()\n",
    "\n",
    "mean_A = sample_mean(A)\n",
    "mean_B = sample_mean(B)\n",
    "\n",
    "med_A = sample_median(A)\n",
    "med_B = sample_median(B)\n",
    "\n",
    "var_A = sample_variance(A)\n",
    "var_B = sample_variance(B)\n",
    "\n",
    "print(f'Company A Mean: {mean_A}\\nCompany A Median: {med_A}\\nCompany A Variance: {var_A}\\n')\n",
    "\n",
    "print(f'Company B Mean: {mean_B}\\nCompany B Median: {med_B}\\nCompany B Variance: {var_B}')\n"
   ]
  },
  {
   "cell_type": "code",
   "execution_count": 42,
   "metadata": {},
   "outputs": [
    {
     "name": "stdout",
     "output_type": "stream",
     "text": [
      "Control Mean: 5.6\n",
      "Control Median: 6.0\n",
      "Control 10% Trimmed Mean: 5.125\n",
      "Control Variance: 69.37777777777778\n",
      "Control Standard Deviation: 8.329332372872257\n",
      "\n",
      "Treatment Mean: 7.6\n",
      "Treatment Median: 5.0\n",
      "Treatment 10% Trimmed Mean: 5.625\n",
      "Treatment Variance: 128.04444444444442\n",
      "Treatment Standard Deviation: 11.315672514015436\n"
     ]
    }
   ],
   "source": [
    "control = [\n",
    "    7, 3, -4, 14, 2,\n",
    "    5, 22, -7, 9, 5]\n",
    "\n",
    "treatment = [\n",
    "    -6, 5, 9, 4, 4,\n",
    "    12, 37, 5, 3, 3\n",
    "]\n",
    "\n",
    "control.sort()\n",
    "treatment.sort()\n",
    "\n",
    "printout(control, 'Control')\n",
    "print()\n",
    "printout(treatment, 'Treatment')"
   ]
  },
  {
   "cell_type": "code",
   "execution_count": 43,
   "metadata": {},
   "outputs": [
    {
     "data": {
      "text/plain": [
       "[-7, -4, 2, 3, 5, 5, 7, 9, 14, 22]"
      ]
     },
     "execution_count": 43,
     "metadata": {},
     "output_type": "execute_result"
    }
   ],
   "source": [
    "control"
   ]
  },
  {
   "cell_type": "code",
   "execution_count": 44,
   "metadata": {},
   "outputs": [
    {
     "data": {
      "text/plain": [
       "[-6, 3, 3, 4, 4, 5, 5, 9, 12, 37]"
      ]
     },
     "execution_count": 44,
     "metadata": {},
     "output_type": "execute_result"
    }
   ],
   "source": [
    "treatment"
   ]
  },
  {
   "cell_type": "code",
   "execution_count": 45,
   "metadata": {},
   "outputs": [
    {
     "name": "stdout",
     "output_type": "stream",
     "text": [
      "20 Celsius Mean: 2.1075\n",
      "20 Celsius Median: 2.125\n",
      "20 Celsius 10% Trimmed Mean: 2.1012500000000003\n",
      "20 Celsius Variance: 0.0050204545454545614\n",
      "20 Celsius Standard Deviation: 0.07085516597577457\n",
      "\n",
      "45 Celsius Mean: 2.2350000000000003\n",
      "45 Celsius Median: 2.33\n",
      "45 Celsius 10% Trimmed Mean: 2.2262500000000003\n",
      "45 Celsius Variance: 0.041281818181818204\n",
      "45 Celsius Standard Deviation: 0.20317927596538532\n"
     ]
    }
   ],
   "source": [
    "c20 = [\n",
    "    2.07, 2.14, 2.22, 2.03, 2.21, 2.03,\n",
    "    2.05, 2.18, 2.09, 2.14, 2.11, 2.02\n",
    "]\n",
    "\n",
    "c45 = [\n",
    "    2.52, 2.15, 2.49, 2.03, 2.37, 2.05,\n",
    "    1.99, 2.42, 2.08, 2.42, 2.29, 2.01\n",
    "]\n",
    "\n",
    "c20.sort()\n",
    "c45.sort()\n",
    "\n",
    "printout(c20, '20 Celsius')\n",
    "print()\n",
    "printout(c45, '45 Celsius')"
   ]
  },
  {
   "cell_type": "code",
   "execution_count": 46,
   "metadata": {},
   "outputs": [
    {
     "data": {
      "text/plain": [
       "[2.02, 2.03, 2.03, 2.05, 2.07, 2.09, 2.11, 2.14, 2.14, 2.18, 2.21, 2.22]"
      ]
     },
     "execution_count": 46,
     "metadata": {},
     "output_type": "execute_result"
    }
   ],
   "source": [
    "c20"
   ]
  },
  {
   "cell_type": "code",
   "execution_count": 47,
   "metadata": {},
   "outputs": [
    {
     "data": {
      "text/plain": [
       "[1.99, 2.01, 2.03, 2.05, 2.08, 2.15, 2.29, 2.37, 2.42, 2.42, 2.49, 2.52]"
      ]
     },
     "execution_count": 47,
     "metadata": {},
     "output_type": "execute_result"
    }
   ],
   "source": [
    "c45"
   ]
  },
  {
   "cell_type": "code",
   "execution_count": null,
   "metadata": {},
   "outputs": [],
   "source": []
  }
 ],
 "metadata": {
  "kernelspec": {
   "display_name": "Python 3",
   "language": "python",
   "name": "python3"
  },
  "language_info": {
   "codemirror_mode": {
    "name": "ipython",
    "version": 3
   },
   "file_extension": ".py",
   "mimetype": "text/x-python",
   "name": "python",
   "nbconvert_exporter": "python",
   "pygments_lexer": "ipython3",
   "version": "3.6.5"
  }
 },
 "nbformat": 4,
 "nbformat_minor": 2
}
